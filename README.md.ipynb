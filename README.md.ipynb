{
 "cells": [
  {
   "cell_type": "markdown",
   "id": "dad84bb2",
   "metadata": {},
   "source": [
    "# Business Data and Understanding\n",
    "\n",
    "Magical Homes Real Estate is a local agency looking to take a data driven approach to advising home owners on how to increase the sale price of their home.\n",
    "\n",
    "This project will analyze a current dataset that captures unique information about specific houses and the sale price of that home in King County, Washington State. \n",
    "\n",
    "The object of the analysis will be use the data to build a model that will enable us to understand how different variables affect the sale price of the home and relay that information to home owners through easy to understand visualization. \n"
   ]
  },
  {
   "cell_type": "markdown",
   "id": "cdc93ae9",
   "metadata": {},
   "source": [
    "## Data and Methods Summary\n",
    "\n",
    "1. Clean the dataset: \n",
    "- Deal with null values\n",
    "- Remove extreme outliers to reflect a dataset that would not be skewed by luxury homes\n",
    "- Remove unwanted variables (ex. Home ID)\n",
    "\n",
    "2. Prepare the data for modeling:\n",
    "- Run a correlation check to understand how variables correlate to sale price\n",
    "- Normalize the data\n",
    "- Convert categorical values\n",
    "\n",
    "3. Explore the Data\n",
    "- Use plots to confirm assumptions of normality and linear relationships\n",
    "- Use this understanding to build new data features \n",
    "- Evaluate potential for multicollinearity in the final cleaned dataset\n",
    "\n",
    "4. Modeling\n",
    "- Create a baseline model with the top 3 highest correlating values found in section 2a\n",
    "- Iterate the model by removing values that don’t score well and adding new ones to the model\n",
    "- Remove any variables that are confirmed as multilinear through VIF scoring\n",
    "\n",
    "5. Interpret the coefficients of the final model\n"
   ]
  },
  {
   "cell_type": "markdown",
   "id": "d5e91219",
   "metadata": {},
   "source": [
    "# Data Cleaning\n",
    "\n"
   ]
  },
  {
   "cell_type": "markdown",
   "id": "bce864e8",
   "metadata": {},
   "source": [
    "### Dealing with Null Values"
   ]
  },
  {
   "cell_type": "markdown",
   "id": "d74ba134",
   "metadata": {},
   "source": [
    "Analyze null values and either remove or update that values to create a cohesive data set. "
   ]
  },
  {
   "cell_type": "markdown",
   "id": "ae3fa6b2",
   "metadata": {},
   "source": [
    "### Dealing with Outliers\n",
    "\n",
    "The real estate agency would like to advise as many home owners as possible on how they can use renovations to increase property values. \n",
    "\n",
    "In order to do that, we'll have to remove extreme values from the data set since we are not in skewing the data set. \n"
   ]
  },
  {
   "cell_type": "markdown",
   "id": "5e1b1277",
   "metadata": {},
   "source": [
    "### Data Review\n",
    "\n",
    "I want to evaluate which variables impact the price of the more than others, so that I can make reccommendations to home owners on which home renovations will yield a higher sale price. Because of this, I'll drop variables that I assume will have little impact on renovations.\n",
    "\n",
    "Data to Drop:\n",
    "\n",
    "ID: represents a unique identifer of the house and has nothing to do with attributes or price\n",
    "\n",
    "Lat, Long, Zipcode: I'll assume that I cannot change the location of the home, so I won't use these features\n",
    "\n",
    "Date: the date that the house was sold is likely irrelevant to the overall price of the home post renovation\n",
    "\n",
    "sqft_living15 and sqft_lot15: This data point relies on neighbor data and is not relevant when evaluating renovations\n",
    "\n",
    "sqft_above: I'll use the already included feature sqft_living as a way to gauge a change in price so that the owner can decided if they want to increase the overall living space\n",
    "\n",
    "Finally, I'll evaluate any other variables that may need to be manipulated in any way. \n"
   ]
  },
  {
   "cell_type": "markdown",
   "id": "f6839a4e",
   "metadata": {},
   "source": [
    "### Renovation vs. Price Data\n",
    "\n",
    "Since we're interested in how renovations may affect the price of the home, let's compare the sale price of homes that were renovated vs not renovated and see if this confirms that renovating a home may increase the sales price of the house. "
   ]
  },
  {
   "cell_type": "markdown",
   "id": "f287026d",
   "metadata": {},
   "source": [
    "![](Images/renovated-2.png)"
   ]
  },
  {
   "cell_type": "markdown",
   "id": "9717b7ab",
   "metadata": {},
   "source": [
    "# Prepare Data for Modeling\n",
    "\n"
   ]
  },
  {
   "cell_type": "markdown",
   "id": "d97a4c04",
   "metadata": {},
   "source": [
    "### Correlation Check\n",
    "\n",
    "\n",
    "Run an initial check on correlations to see which variables we should start building the model with. \n",
    "\n"
   ]
  },
  {
   "cell_type": "markdown",
   "id": "99304f54",
   "metadata": {},
   "source": [
    "![](Images/correlation_check.png)"
   ]
  },
  {
   "cell_type": "markdown",
   "id": "722cdf03",
   "metadata": {},
   "source": [
    "The data above tells me that we should start our baseline model with the highest \n",
    "correlated values, I'll begin with grade, sqft_living and bathrooms. \n",
    "\n",
    "I've also noticed that yrs_since_built has a very low correlations with price. I'll look at the visualizations and consider removing this feature. "
   ]
  },
  {
   "cell_type": "markdown",
   "id": "b33ae9f4",
   "metadata": {},
   "source": [
    "### Normalizing Data\n",
    "\n",
    "Normalize the numeric columns to the same scale and create a function to do so for future analysis. Data normalization is very important as it allows us to compare all of our data on the same scale and see which data sets have a greater impact on the model, even though they might be different relative sizes. \n",
    "\n",
    "Moving forward, I'll keep two separate copies of my data; one that has been normalized, and one that has not. This will allow me to compare coefficients with normalized data and extract real values based on those coefficiants from the data set that has not been normalized. \n"
   ]
  },
  {
   "cell_type": "markdown",
   "id": "0f4e2eaf",
   "metadata": {},
   "source": [
    "### Dealing with Categorical Values\n",
    "\n",
    "\n",
    "Using plots and considering the different variables, determine which values are categorical and must be manipulated by one hot encoding, and which are continuous.  "
   ]
  },
  {
   "cell_type": "markdown",
   "id": "25de10bb",
   "metadata": {},
   "source": [
    "Continuous Variables:\n",
    "- bedrooms\n",
    "- bathrooms\n",
    "- grade\n",
    "- sqft_living\n",
    "- sqft_lot\n",
    "- yrs_since_built\n",
    "- floors\n",
    "\n",
    "Categorical Variables:\n",
    "- view\n",
    "- condition\n",
    "- waterfront_binary\n",
    "- renovated\n",
    "- basement\n",
    "\n",
    "Next we'll create the categories using pd.get_dummies\n",
    "and add them to both the scaled and unscaled data sets\n"
   ]
  },
  {
   "cell_type": "markdown",
   "id": "9e146f2d",
   "metadata": {},
   "source": [
    "# Data Exploration\n"
   ]
  },
  {
   "cell_type": "markdown",
   "id": "6bc10877",
   "metadata": {},
   "source": [
    "## Checking for Normality and Linearity"
   ]
  },
  {
   "cell_type": "markdown",
   "id": "b22a8abe",
   "metadata": {
    "scrolled": false
   },
   "source": [
    "![](Images/normalization_plots.png)"
   ]
  },
  {
   "cell_type": "markdown",
   "id": "ed92c4f1",
   "metadata": {},
   "source": [
    "Observing the histograms above, most of the data seems to look rather normal, except for the following:\n",
    "\n",
    "- yrs_since_built: much like the scatter plot and correlation value generated, this data looks randomly distributed\n",
    "- grade: this variable appears to be bi-modal\n",
    "- floors: this variable looks very heavily skewed\n"
   ]
  },
  {
   "cell_type": "markdown",
   "id": "3c5cc860",
   "metadata": {},
   "source": [
    "## Feature Building and Data Cleaning\n",
    "\n",
    "In this section I'll remove the 'yrs_since_built' variable and make new features for grade and floors. \n",
    "\n",
    "Finally, we'll run the correlation check again to see if there were any changes. "
   ]
  },
  {
   "cell_type": "markdown",
   "id": "5da0f7d2",
   "metadata": {},
   "source": [
    "![](Images/second_corr_check.png)"
   ]
  },
  {
   "cell_type": "markdown",
   "id": "863b20e9",
   "metadata": {},
   "source": [
    "## Evaluating Multicolinearity\n",
    "\n",
    "Multicolineartity could affect our resulting model, so we'll look for pairwise correlations that are higher than .65. "
   ]
  },
  {
   "cell_type": "markdown",
   "id": "cef962bf",
   "metadata": {},
   "source": [
    "![](Images/heatmap.png)"
   ]
  },
  {
   "cell_type": "markdown",
   "id": "e5a04566",
   "metadata": {},
   "source": [
    "I should be conscious that (one_floor,floor) and (sqft_living, bathrooms) may be colinear. \n",
    "\n",
    "As I noted above, it looks like the 'one_floor' feature is correlating a bit better with price than the 'floors' variable. Since one_floor and floors are so highly correlated, I'll drop floors from my modeling. "
   ]
  },
  {
   "cell_type": "markdown",
   "id": "395912af",
   "metadata": {},
   "source": [
    "# Modeling Data\n",
    "\n",
    "\n"
   ]
  },
  {
   "cell_type": "markdown",
   "id": "8e350795",
   "metadata": {},
   "source": [
    "## Baseline Model\n",
    "\n",
    "Create a baseline model using the top three variables that correlated best with 'price'"
   ]
  },
  {
   "cell_type": "markdown",
   "id": "7fac4418",
   "metadata": {},
   "source": [
    "![](Images/baseline.png)"
   ]
  },
  {
   "cell_type": "markdown",
   "id": "dfa2a185",
   "metadata": {},
   "source": [
    "Although we didn't get a very high R-squared score, the coefficients for the most correlated values suggest that grade, followed by sqft_living positively impact the price of the house. Adding more bathrooms may negatively affect the price. "
   ]
  },
  {
   "cell_type": "markdown",
   "id": "0a24da8a",
   "metadata": {},
   "source": [
    "## First Iteration\n",
    "\n",
    "Layer in the next three variables that correlated with 'price' which are bedrooms, one_floor and high_grade."
   ]
  },
  {
   "cell_type": "markdown",
   "id": "b2008e59",
   "metadata": {},
   "source": [
    "![](Images/first_rsquare.png)"
   ]
  },
  {
   "cell_type": "markdown",
   "id": "2785317c",
   "metadata": {},
   "source": [
    "![](Images/first_coef.png)"
   ]
  },
  {
   "cell_type": "markdown",
   "id": "ba17a0db",
   "metadata": {},
   "source": [
    "Although the model did not get that much stronger adding in the new variables increased the coefficiant for sqft_living, and bathrooms remained a negative coefficient. \n",
    "\n",
    "\n",
    "\n",
    "\n"
   ]
  },
  {
   "cell_type": "markdown",
   "id": "51bed058",
   "metadata": {},
   "source": [
    "## Second Iteration\n",
    "\n",
    "Add the next three most correlated values to sale price. "
   ]
  },
  {
   "cell_type": "markdown",
   "id": "3474baf0",
   "metadata": {},
   "source": [
    "![](Images/second_rquare.png)"
   ]
  },
  {
   "cell_type": "markdown",
   "id": "066f06e8",
   "metadata": {},
   "source": [
    "![](Images/second_coef.png)"
   ]
  },
  {
   "cell_type": "markdown",
   "id": "d44794a7",
   "metadata": {},
   "source": [
    "The score has sligtly improved and we haven't seen much change the most highly correlating values. \n",
    "\n",
    "We do notice that there's a high p-value in view_good, we'll add the next set of variables to the model and remove view_good. "
   ]
  },
  {
   "cell_type": "markdown",
   "id": "80e401a4",
   "metadata": {},
   "source": [
    "## Third Iteration\n",
    "\n",
    "Remove high p-value variable 'View_GOOD' and add next three highest correlating values. "
   ]
  },
  {
   "cell_type": "markdown",
   "id": "85faf2be",
   "metadata": {},
   "source": [
    "![](Images/third_rsquare.png)"
   ]
  },
  {
   "cell_type": "markdown",
   "id": "87a9ca25",
   "metadata": {},
   "source": [
    "![](Images/third_coef.png)"
   ]
  },
  {
   "cell_type": "markdown",
   "id": "1b9a735b",
   "metadata": {},
   "source": [
    "## Fourth Iteration\n",
    "\n",
    "Let's add the final variables and remove the high p-score from the last model, 'View_FAIR'. "
   ]
  },
  {
   "cell_type": "markdown",
   "id": "24d1fbf7",
   "metadata": {},
   "source": [
    "![](Images/fourth_rsquare.png)"
   ]
  },
  {
   "cell_type": "markdown",
   "id": "9a434f9d",
   "metadata": {},
   "source": [
    "![](Images/fourth_coef.png)"
   ]
  },
  {
   "cell_type": "markdown",
   "id": "4c72c836",
   "metadata": {},
   "source": [
    "## Fifth Iteration\n",
    "\n",
    "Remove high p-values waterfront_binary condition_poor. "
   ]
  },
  {
   "cell_type": "markdown",
   "id": "3e102a06",
   "metadata": {},
   "source": [
    "![](Images/fifth_rsquare.png)"
   ]
  },
  {
   "cell_type": "markdown",
   "id": "28d0cc1b",
   "metadata": {},
   "source": [
    "![](Images/fifth_coef.png)"
   ]
  },
  {
   "cell_type": "markdown",
   "id": "26c06778",
   "metadata": {},
   "source": [
    "## Investigate Multicolinearity Using VIF Scores\n",
    "\n",
    "Finally, we'll use VIF scores to check the model for multicoliniearty. Any variable with a score greater than 10 we'll remove and re run the model. "
   ]
  },
  {
   "cell_type": "markdown",
   "id": "13fea4ec",
   "metadata": {},
   "source": [
    "![](Images/vifscores.png)"
   ]
  },
  {
   "cell_type": "markdown",
   "id": "a3f54c1a",
   "metadata": {},
   "source": [
    "## Final Iteration\n",
    "\n",
    "We found that the variable for bedrooms was affected the model, let's remove it and get our final model. "
   ]
  },
  {
   "cell_type": "markdown",
   "id": "a9f398d8",
   "metadata": {},
   "source": [
    "![](Images/final_rsquare.png)"
   ]
  },
  {
   "cell_type": "markdown",
   "id": "ffac35dd",
   "metadata": {},
   "source": [
    "![](Images/final_coef.png)"
   ]
  },
  {
   "cell_type": "markdown",
   "id": "d44642ed",
   "metadata": {},
   "source": [
    "# Conclusions and Future Work"
   ]
  },
  {
   "cell_type": "markdown",
   "id": "7d4eb0ac",
   "metadata": {},
   "source": [
    "Let's look at the final coefficients from the final model above. \n",
    "\n",
    "It appears that increasing the grade and condition of the house are the greatest contributors to an increase in the sale price of the house. Great news! These are things that buyers often have control over. \n",
    "\n",
    "Having a excellent view will also greatly contribute to the sale price, but I'll focus on this less when giving advice to the reality company as it's difficult for home owners to control. However, if the customer had a view that was blocked by trees on the property, we'd suggest to have them cut back. \n",
    "\n",
    "The third variable that we'll consider is the overall square footage of the living space. The data above suggests we can't merely add an extra bathroom to the house if it doesn't make sense with the over all size of the house. Homeowners should carefully consider how they can increase living space, either by adding on to the house or or changing the space to provide more functionality (screened in porch for example). \n",
    "\n",
    "\n"
   ]
  },
  {
   "cell_type": "markdown",
   "id": "5dca88d3",
   "metadata": {},
   "source": [
    "![](Images/real_coef.png)"
   ]
  },
  {
   "cell_type": "markdown",
   "id": "9e64f80d",
   "metadata": {},
   "source": [
    "## Conclusion\n",
    "\n",
    "Let's use the coefficiants found above to put them into plain terms that will make it easier to speak with homeowners. \n",
    "\n",
    "Increasing the Condition: The overall condition of a home is related to the maintenance of the house. A 'good' condition denotes that the home requires no obvious maintenance and that appearance and utility are above standard; this condition will increase the sale price of the house by about 31.5 thousand dollars if no other variables about the house are changed. \n",
    "\n",
    "However, having a home with a 'very good' condition will increase the sale price by about 81.5 thousand dollars. Houses that are in 'very good' condition are very will maintained, and show that many things have been overhauled and repaired over time, greatly increasing the life expectancy and utility of the home. \n",
    "\n",
    "Increasing Grade: Grade is represented on a 1 to 13 scale with a grade of 6 achieving the lowest grade to meet current building codes. Grades 7 and above generally mean that the house has increasing architectural design, better construction and higher overall design quality. In simpler terms, this can denote the quality of cosmetic appearance such as wood finishings and bathroom fixtures. Remodeling a home to increase by 1 grade point will yield an increase in price of about 83 thousand dollars. \n",
    "\n",
    "Increasing square footage of living space: For every square foot of living space, the home will increase in value by about 72 dollars. A better rule of thumb would be to frame this in a larger scale; adding a wreck room or family room on to the house that adds 500 square feet of living room will increase the sale price of the home by about 36 thousand dollars. \n",
    "\n"
   ]
  },
  {
   "cell_type": "markdown",
   "id": "c08959b0",
   "metadata": {},
   "source": [
    "Next, a few visualaziations to help us discuss these variables with home owners:"
   ]
  },
  {
   "cell_type": "markdown",
   "id": "bdfc0a59",
   "metadata": {},
   "source": [
    "![](Images/ave_condition.png)"
   ]
  },
  {
   "cell_type": "markdown",
   "id": "b7e0f1d7",
   "metadata": {},
   "source": [
    "![](Images/price_sqft2.png)\n"
   ]
  },
  {
   "cell_type": "markdown",
   "id": "75d17231",
   "metadata": {},
   "source": [
    "![](Images/price_grade2.png)"
   ]
  },
  {
   "cell_type": "markdown",
   "id": "5fd12676",
   "metadata": {},
   "source": [
    "## Future Work\n",
    "\n",
    "\n",
    "- Acquire a new data set on the cost of different home renovations to be able to compare the cost of renovation vs the potential increase in sale price.\n",
    "- Group data sets based on location and home cost to generate new models that have even better results based on home type.\n",
    "- Take a predictive approach and build a model that can give homeowners an accurate representation of sale price when they make changes to their home .\n",
    "\n"
   ]
  }
 ],
 "metadata": {
  "kernelspec": {
   "display_name": "Python 3",
   "language": "python",
   "name": "python3"
  },
  "language_info": {
   "codemirror_mode": {
    "name": "ipython",
    "version": 3
   },
   "file_extension": ".py",
   "mimetype": "text/x-python",
   "name": "python",
   "nbconvert_exporter": "python",
   "pygments_lexer": "ipython3",
   "version": "3.8.8"
  },
  "toc": {
   "base_numbering": 1,
   "nav_menu": {},
   "number_sections": true,
   "sideBar": true,
   "skip_h1_title": false,
   "title_cell": "Table of Contents",
   "title_sidebar": "Contents",
   "toc_cell": false,
   "toc_position": {
    "height": "calc(100% - 180px)",
    "left": "10px",
    "top": "150px",
    "width": "283.390625px"
   },
   "toc_section_display": true,
   "toc_window_display": true
  }
 },
 "nbformat": 4,
 "nbformat_minor": 5
}
